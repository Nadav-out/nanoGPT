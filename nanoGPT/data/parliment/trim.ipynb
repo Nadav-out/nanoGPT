{
 "cells": [
  {
   "cell_type": "code",
   "execution_count": 1,
   "metadata": {},
   "outputs": [],
   "source": [
    "# We have a large text file. an example of \n",
    "# Here is an example of how the file looks:\n",
    "# [04/03/2013, 5:03:27] רועי מיארה: יש למישהו מטען לגלקסי...?\n",
    "# [04/03/2013, 5:03:32] רועי מיארה: 💪\n",
    "# [04/03/2013, 5:03:56] פיץ: כן\n",
    "# [04/03/2013, 5:04:06] חגי בנשושן: לי יש סלוטייפ\n",
    "# [04/03/2013, 5:04:12] פיץ: איפה אתה?\n",
    "# [04/03/2013, 5:04:16] רועי מיארה: פיץ ספק סק\n",
    "# [04/03/2013, 5:04:20] רועי מיארה: ספק\n",
    "# [04/03/2013, 5:04:28] רועי מיארה: Supply!\n",
    "# [04/03/2013, 5:05:06] פיץ: בדרך\n",
    "# [04/03/2013, 6:05:01] חגי בנשושן: חתכתי לארומה בדרך... הזמנות?\n",
    "\n",
    "# This code  is going to remove the first few in each line, such that it would look like this:\n",
    "# רועי מיארה: 💪\n",
    "# רועי מיארה: יש למישהו מטען לגלקסי...?\n",
    "# פיץ: כן\n",
    "# חגי בנשושן: לי יש סלוטייפ\n",
    "# פיץ: איפה אתה?\n",
    "# רועי מיארה: פיץ ספק סק\n",
    "# רועי מיארה: ספק\n",
    "# רועי מיארה: Supply!\n",
    "# פיץ: בדרך\n",
    "# חגי בנשושן: חתכתי לארומה בדרך... הזמנות?\n"
   ]
  },
  {
   "cell_type": "code",
   "execution_count": null,
   "metadata": {},
   "outputs": [],
   "source": [
    "import os\n",
    "import pickle\n",
    "import requests\n",
    "import numpy as np\n",
    "\n",
    "input_file_path = os.path.join(os.path.dirname(__file__), 'input.txt')\n",
    "with open(input_file_path, 'r') as f:\n",
    "    data = f.read()\n",
    "\n",
    "\n"
   ]
  },
  {
   "cell_type": "code",
   "execution_count": null,
   "metadata": {},
   "outputs": [],
   "source": [
    "input_file_path"
   ]
  },
  {
   "cell_type": "code",
   "execution_count": null,
   "metadata": {},
   "outputs": [],
   "source": []
  }
 ],
 "metadata": {
  "kernelspec": {
   "display_name": "lasso",
   "language": "python",
   "name": "python3"
  },
  "language_info": {
   "codemirror_mode": {
    "name": "ipython",
    "version": 3
   },
   "file_extension": ".py",
   "mimetype": "text/x-python",
   "name": "python",
   "nbconvert_exporter": "python",
   "pygments_lexer": "ipython3",
   "version": "3.11.4"
  },
  "orig_nbformat": 4
 },
 "nbformat": 4,
 "nbformat_minor": 2
}
